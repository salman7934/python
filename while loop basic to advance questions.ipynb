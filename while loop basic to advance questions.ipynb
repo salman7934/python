{
 "cells": [
  {
   "cell_type": "code",
   "execution_count": 1,
   "id": "67f2b65c-8e56-4f39-9cf8-96f12428ec6b",
   "metadata": {},
   "outputs": [
    {
     "name": "stdout",
     "output_type": "stream",
     "text": [
      "1\n",
      "2\n",
      "3\n",
      "4\n",
      "5\n",
      "6\n",
      "7\n",
      "8\n",
      "9\n",
      "10\n"
     ]
    }
   ],
   "source": [
    "count = 1\n",
    "while count <= 10:\n",
    "    print(count)\n",
    "    count += 1\n"
   ]
  },
  {
   "cell_type": "code",
   "execution_count": 3,
   "id": "4b3b9bb2-5c10-4765-8e38-3d48745dff16",
   "metadata": {},
   "outputs": [
    {
     "name": "stdout",
     "output_type": "stream",
     "text": [
      "2\n",
      "4\n",
      "6\n",
      "8\n",
      "10\n",
      "12\n",
      "14\n",
      "16\n",
      "18\n",
      "20\n"
     ]
    }
   ],
   "source": [
    "number = 1\n",
    "while number <= 20:\n",
    "    if number % 2 == 0:\n",
    "        print(number)\n",
    "    number += 1\n"
   ]
  },
  {
   "cell_type": "code",
   "execution_count": 5,
   "id": "c76bf009-cc16-4716-a6c3-7a9e5a5abe8c",
   "metadata": {},
   "outputs": [
    {
     "name": "stdout",
     "output_type": "stream",
     "text": [
      "Sum of the first 10 natural numbers: 55\n"
     ]
    }
   ],
   "source": [
    "n = 1\n",
    "total_sum = 0\n",
    "while n <= 10:\n",
    "    total_sum += n\n",
    "    n += 1\n",
    "print(\"Sum of the first 10 natural numbers:\", total_sum)\n"
   ]
  },
  {
   "cell_type": "code",
   "execution_count": 7,
   "id": "5b5dd8e1-ad21-4fbe-bd29-2b7c635781be",
   "metadata": {},
   "outputs": [
    {
     "name": "stdin",
     "output_type": "stream",
     "text": [
      "Enter a number (negative number to stop):  -7\n"
     ]
    },
    {
     "name": "stdout",
     "output_type": "stream",
     "text": [
      "Total sum of entered numbers: 0\n"
     ]
    }
   ],
   "source": [
    "total_sum = 0\n",
    "while True:\n",
    "    user_input = int(input(\"Enter a number (negative number to stop): \"))\n",
    "    if user_input < 0:\n",
    "        break\n",
    "    total_sum += user_input\n",
    "print(\"Total sum of entered numbers:\", total_sum)\n"
   ]
  },
  {
   "cell_type": "code",
   "execution_count": 9,
   "id": "44592ec3-fb59-4c2e-9777-f72a82bf9b8f",
   "metadata": {},
   "outputs": [
    {
     "name": "stdin",
     "output_type": "stream",
     "text": [
      "Guess a number between 1 and 100:  12\n"
     ]
    },
    {
     "name": "stdout",
     "output_type": "stream",
     "text": [
      "Congratulations! You guessed the correct number.\n"
     ]
    }
   ],
   "source": [
    "number = 12\n",
    "while True:\n",
    "    guess = int(input(\"Guess a number between 1 and 100: \"))\n",
    "    if guess < number:\n",
    "        print(\"Too low! Try again.\")\n",
    "    elif guess > number:\n",
    "        print(\"Too high! Try again.\")\n",
    "    else:\n",
    "        print(\"Congratulations! You guessed the correct number.\")\n",
    "        break\n"
   ]
  },
  {
   "cell_type": "code",
   "execution_count": 11,
   "id": "d6e42e1b-705c-4337-9ff4-a3a8d660624f",
   "metadata": {},
   "outputs": [
    {
     "name": "stdin",
     "output_type": "stream",
     "text": [
      "Enter a positive integer to find its factorial:  7\n"
     ]
    },
    {
     "name": "stdout",
     "output_type": "stream",
     "text": [
      "The factorial of 7 is 5040\n"
     ]
    }
   ],
   "source": [
    "number = int(input(\"Enter a positive integer to find its factorial: \"))\n",
    "factorial = 1\n",
    "current = 1\n",
    "\n",
    "while current <= number:\n",
    "    factorial *= current\n",
    "    current += 1\n",
    "\n",
    "print(f\"The factorial of {number} is {factorial}\")\n"
   ]
  },
  {
   "cell_type": "code",
   "execution_count": 13,
   "id": "96f0a6b0-b478-4e93-b877-0c010fc3dda2",
   "metadata": {},
   "outputs": [
    {
     "name": "stdin",
     "output_type": "stream",
     "text": [
      "Enter a number (type 'done' to finish):  8\n",
      "Enter a number (type 'done' to finish):  done\n"
     ]
    },
    {
     "name": "stdout",
     "output_type": "stream",
     "text": [
      "Average of entered numbers: 8.0\n"
     ]
    }
   ],
   "source": [
    "total_sum = 0\n",
    "count = 0\n",
    "\n",
    "while True:\n",
    "    user_input = input(\"Enter a number (type 'done' to finish): \")\n",
    "    if user_input.lower() == \"done\":\n",
    "        break\n",
    "    total_sum += float(user_input)\n",
    "    count += 1\n",
    "\n",
    "if count == 0:\n",
    "    print(\"No numbers entered.\")\n",
    "else:\n",
    "    print(\"Average of entered numbers:\", total_sum / count)\n"
   ]
  },
  {
   "cell_type": "code",
   "execution_count": 15,
   "id": "69b6bedd-8758-4a11-b3eb-19bb80df4f8a",
   "metadata": {},
   "outputs": [
    {
     "name": "stdin",
     "output_type": "stream",
     "text": [
      "Enter the maximum number for the Fibonacci sequence:  4\n"
     ]
    },
    {
     "name": "stdout",
     "output_type": "stream",
     "text": [
      "Fibonacci sequence:\n",
      "0 1 1 2 3 \n"
     ]
    }
   ],
   "source": [
    "n = int(input(\"Enter the maximum number for the Fibonacci sequence: \"))\n",
    "a, b = 0, 1\n",
    "\n",
    "print(\"Fibonacci sequence:\")\n",
    "while a <= n:\n",
    "    print(a, end=\" \")\n",
    "    a, b = b, a + b\n",
    "print()\n"
   ]
  },
  {
   "cell_type": "code",
   "execution_count": null,
   "id": "de2b4bf4-f10d-40c8-a234-4252fd9f443b",
   "metadata": {},
   "outputs": [],
   "source": []
  }
 ],
 "metadata": {
  "kernelspec": {
   "display_name": "Python 3 (ipykernel)",
   "language": "python",
   "name": "python3"
  },
  "language_info": {
   "codemirror_mode": {
    "name": "ipython",
    "version": 3
   },
   "file_extension": ".py",
   "mimetype": "text/x-python",
   "name": "python",
   "nbconvert_exporter": "python",
   "pygments_lexer": "ipython3",
   "version": "3.12.4"
  }
 },
 "nbformat": 4,
 "nbformat_minor": 5
}
